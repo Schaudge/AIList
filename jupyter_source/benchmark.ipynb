{
 "cells": [
  {
   "cell_type": "markdown",
   "metadata": {
    "deletable": true,
    "editable": true
   },
   "source": [
    "# GSAIL benchmarks\n",
    "\n",
    "Here we will show you how to benchmark the code. We assume you have already finished the introduction and have compiled and put the `gsail` executable in your path.\n",
    "\n",
    "First, download some test data:"
   ]
  },
  {
   "cell_type": "code",
   "execution_count": 7,
   "metadata": {
    "collapsed": false,
    "deletable": true,
    "editable": true
   },
   "outputs": [
    {
     "name": "stdout",
     "output_type": "stream",
     "text": [
      "--2019-01-08 17:25:00--  http://big.databio.org/example_data/sailer/AIListTestData.tgz\n",
      "Resolving big.databio.org (big.databio.org)... 128.143.8.170\n",
      "Connecting to big.databio.org (big.databio.org)|128.143.8.170|:80... connected.\n",
      "HTTP request sent, awaiting response... 200 OK\n",
      "Length: 413053197 (394M) [application/octet-stream]\n",
      "Saving to: ‘AIListTestData.tgz’\n",
      "\n",
      "AIListTestData.tgz  100%[===================>] 393.92M   104MB/s    in 3.9s    \n",
      "\n",
      "2019-01-08 17:25:04 (102 MB/s) - ‘AIListTestData.tgz’ saved [413053197/413053197]\n",
      "\n"
     ]
    }
   ],
   "source": [
    "cd\n",
    "wget http://big.databio.org/example_data/sailer/AIListTestData.tgz\n",
    "tar -xf AIListTestData.tgz"
   ]
  },
  {
   "cell_type": "markdown",
   "metadata": {
    "collapsed": true,
    "deletable": true,
    "editable": true
   },
   "source": [
    "Next, we will make sure we can run `gsail` on this data:"
   ]
  },
  {
   "cell_type": "code",
   "execution_count": 9,
   "metadata": {
    "collapsed": false,
    "deletable": true,
    "editable": true
   },
   "outputs": [
    {
     "name": "stdout",
     "output_type": "stream",
     "text": [
      "chr1\t11871\t25924\t13\n",
      "chr1\t14786\t15089\t2\n",
      "chr1\t16586\t17305\t3\n",
      "chr1\t17962\t18067\t1\n",
      "chr1\t18118\t18426\t1\n",
      "chr1\t19159\t24916\t1\n",
      "chr1\t24680\t24904\t1\n",
      "chr1\t29183\t29815\t1\n",
      "chr1\t49736\t63898\t0\n",
      "chr1\t52067\t70851\t1\n"
     ]
    }
   ],
   "source": [
    "./AIList/bin/AIList AIListTestData/chainOrnAna1.bed AIListTestData/exons.bed | head"
   ]
  },
  {
   "cell_type": "markdown",
   "metadata": {
    "deletable": true,
    "editable": true
   },
   "source": [
    "Now, here is how to reproduce the benchmark figures from the paper...\n"
   ]
  }
 ],
 "metadata": {
  "kernelspec": {
   "display_name": "Bash",
   "language": "bash",
   "name": "bash"
  },
  "language_info": {
   "codemirror_mode": "shell",
   "file_extension": ".sh",
   "mimetype": "text/x-sh",
   "name": "bash"
  }
 },
 "nbformat": 4,
 "nbformat_minor": 2
}
