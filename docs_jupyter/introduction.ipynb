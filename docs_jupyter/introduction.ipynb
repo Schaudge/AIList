{
 "cells": [
  {
   "cell_type": "markdown",
   "metadata": {},
   "source": [
    "# AIList installation and hello world\n",
    "\n",
    "In this vignette we will show you how to compile and install `ailist`, and then show you how to run it on a simple example dataset. First, clone the repository and use `make` to compile the binary:"
   ]
  },
  {
   "cell_type": "code",
   "execution_count": 3,
   "metadata": {},
   "outputs": [
    {
     "name": "stdout",
     "output_type": "stream",
     "text": [
      "cc -o bin/ailist obj/AIList.o\n"
     ]
    }
   ],
   "source": [
    "cd\n",
    "#git clone git@github.com:/databio/AIList.git\n",
    "cd AIList\n",
    "make"
   ]
  },
  {
   "cell_type": "markdown",
   "metadata": {},
   "source": [
    "This creates a binary in `bin/AIList`. If you want to add it to your path, you can copy it over into a general bin by running `sudo cp bin/AIList /usr/local/bin`. You can see the usage of the command line tool by running it without any arguments:"
   ]
  },
  {
   "cell_type": "code",
   "execution_count": 4,
   "metadata": {},
   "outputs": [
    {
     "name": "stdout",
     "output_type": "stream",
     "text": [
      "input error: data file (.bed), query file (.bed), option (-L coverage length) \n"
     ]
    }
   ],
   "source": [
    "./bin/ailist"
   ]
  },
  {
   "cell_type": "markdown",
   "metadata": {},
   "source": [
    "To run it, we need to provide 2 `.bed` files: a query file and a database file. The `-L` parameter is optional and you \n",
    "should be fine using the default in most cases. We've included 2 very small bed files in the `example_data` folder to use as an example. Let's first see what's in those files. The database is a set of genomic intervals, each 5 base pairs long, that range from position 1 to 100 on chr1:"
   ]
  },
  {
   "cell_type": "code",
   "execution_count": 5,
   "metadata": {},
   "outputs": [
    {
     "name": "stdout",
     "output_type": "stream",
     "text": [
      "chr1\t1\t5\t\n",
      "chr1\t6\t10\t\n",
      "chr1\t11\t15\t\n",
      "chr1\t16\t20\t\n",
      "chr1\t21\t25\t\n",
      "chr1\t26\t30\t\n",
      "chr1\t31\t35\t\n",
      "chr1\t36\t40\t\n",
      "chr1\t41\t45\t\n",
      "chr1\t46\t50\t\n",
      "chr1\t51\t55\t\n",
      "chr1\t56\t60\t\n",
      "chr1\t61\t65\t\n",
      "chr1\t66\t70\t\n",
      "chr1\t71\t75\t\n",
      "chr1\t76\t80\t\n",
      "chr1\t81\t85\t\n",
      "chr1\t86\t90\t\n",
      "chr1\t91\t95\t\n",
      "chr1\t96\t100\n"
     ]
    }
   ],
   "source": [
    "cat example_data/database.bed"
   ]
  },
  {
   "cell_type": "markdown",
   "metadata": {},
   "source": [
    "The query is a set of 5 intervals that cover one or more of the database regions:"
   ]
  },
  {
   "cell_type": "code",
   "execution_count": 6,
   "metadata": {},
   "outputs": [
    {
     "name": "stdout",
     "output_type": "stream",
     "text": [
      "chr1\t5\t17\n",
      "chr1\t32\t49\n",
      "chr1\t60\t62\n",
      "chr1\t71\t90\n",
      "chr1\t79\t95\n"
     ]
    }
   ],
   "source": [
    "cat example_data/query.bed"
   ]
  },
  {
   "cell_type": "markdown",
   "metadata": {},
   "source": [
    "If we run `gsail` with these files, we will get the query back with an additional column, counting how many database regions overlap it:"
   ]
  },
  {
   "cell_type": "code",
   "execution_count": 7,
   "metadata": {},
   "outputs": [
    {
     "name": "stdout",
     "output_type": "stream",
     "text": [
      "loading time: 0.000118 \n",
      "The maximum number of subs: 0\n",
      "Constructing time: 0.000036\n",
      "chr1\t5\t17\t3\n",
      "chr1\t32\t49\t4\n",
      "chr1\t60\t62\t1\n",
      "chr1\t71\t90\t4\n",
      "chr1\t79\t95\t4\n",
      "Searching time: 0.000091\n",
      "Total:16\n"
     ]
    }
   ],
   "source": [
    "./bin/ailist example_data/query.bed example_data/database.bed"
   ]
  },
  {
   "cell_type": "code",
   "execution_count": null,
   "metadata": {
    "collapsed": true
   },
   "outputs": [],
   "source": []
  }
 ],
 "metadata": {
  "celltoolbar": "Raw Cell Format",
  "kernelspec": {
   "display_name": "Bash",
   "language": "bash",
   "name": "bash"
  },
  "language_info": {
   "codemirror_mode": "shell",
   "file_extension": ".sh",
   "mimetype": "text/x-sh",
   "name": "bash"
  }
 },
 "nbformat": 4,
 "nbformat_minor": 2
}
