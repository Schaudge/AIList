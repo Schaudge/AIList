{
 "cells": [
  {
   "cell_type": "markdown",
   "metadata": {
    "deletable": true,
    "editable": true
   },
   "source": [
    "# AIList benchmarks\n",
    "\n",
    "Here we will show you how to benchmark the code. We assume you have already finished the introduction and have compiled and put the `ailist` executable in your path.\n",
    "\n",
    "We also included implementations of 2 other data structures, the NCList (obtained from [ncls](https://github.com/hunt-genes/ncls)), and the AITree (obtained from [kerneltree](https://github.com/biocore-ntnu/kerneltree/)). Here is how to compile these tools:"
   ]
  },
  {
   "cell_type": "code",
   "execution_count": 7,
   "metadata": {
    "collapsed": false,
    "deletable": true,
    "editable": true
   },
   "outputs": [
    {
     "name": "stdout",
     "output_type": "stream",
     "text": [
      "gcc -Wall -ggdb -D_FILE_OFFSET_BITS=64 -c AITree.c -o AITree.o \n",
      "\u001b[01m\u001b[KAITree.c:\u001b[m\u001b[K In function ‘\u001b[01m\u001b[Kmain\u001b[m\u001b[K’:\n",
      "\u001b[01m\u001b[KAITree.c:96:27:\u001b[m\u001b[K \u001b[01;35m\u001b[Kwarning: \u001b[m\u001b[Kvariable ‘\u001b[01m\u001b[Kend2\u001b[m\u001b[K’ set but not used [-Wunused-but-set-variable]\n",
      "     clock_t start1, end1, end2;\n",
      "\u001b[01;32m\u001b[K                           ^\u001b[m\u001b[K\n",
      "\u001b[01m\u001b[KAITree.c:96:21:\u001b[m\u001b[K \u001b[01;35m\u001b[Kwarning: \u001b[m\u001b[Kvariable ‘\u001b[01m\u001b[Kend1\u001b[m\u001b[K’ set but not used [-Wunused-but-set-variable]\n",
      "     clock_t start1, end1, end2;\n",
      "\u001b[01;32m\u001b[K                     ^\u001b[m\u001b[K\n",
      "\u001b[01m\u001b[KAITree.c:96:13:\u001b[m\u001b[K \u001b[01;35m\u001b[Kwarning: \u001b[m\u001b[Kvariable ‘\u001b[01m\u001b[Kstart1\u001b[m\u001b[K’ set but not used [-Wunused-but-set-variable]\n",
      "     clock_t start1, end1, end2;\n",
      "\u001b[01;32m\u001b[K             ^\u001b[m\u001b[K\n",
      "\u001b[01m\u001b[KAITree.c:\u001b[m\u001b[K At top level:\n",
      "\u001b[01m\u001b[KAITree.c:38:13:\u001b[m\u001b[K \u001b[01;35m\u001b[Kwarning: \u001b[m\u001b[K‘\u001b[01m\u001b[Kprint_nodes\u001b[m\u001b[K’ defined but not used [-Wunused-function]\n",
      " static void print_nodes(unsigned long start, unsigned long end)\n",
      "\u001b[01;32m\u001b[K             ^\u001b[m\u001b[K\n",
      "gcc -Wall -ggdb -D_FILE_OFFSET_BITS=64 interval_tree.o rbtree.o AITree.o -o AITree \n"
     ]
    }
   ],
   "source": [
    "cd\n",
    "cd AIList/src_AITree\n",
    "make"
   ]
  },
  {
   "cell_type": "code",
   "execution_count": 9,
   "metadata": {
    "collapsed": false,
    "deletable": true,
    "editable": true
   },
   "outputs": [],
   "source": [
    "cd ../src_NCList\n",
    "gcc -o NCList intervaldb.c"
   ]
  },
  {
   "cell_type": "markdown",
   "metadata": {
    "collapsed": true,
    "deletable": true,
    "editable": true
   },
   "source": [
    "Now that all our tools are compiled, we will make sure we can them:"
   ]
  },
  {
   "cell_type": "code",
   "execution_count": 11,
   "metadata": {
    "collapsed": false,
    "deletable": true,
    "editable": true
   },
   "outputs": [
    {
     "name": "stdout",
     "output_type": "stream",
     "text": [
      "chr1\t11871\t25924\t13\n",
      "chr1\t14786\t15089\t2\n",
      "chr1\t16586\t17305\t3\n",
      "chr1\t17962\t18067\t1\n",
      "chr1\t18118\t18426\t1\n",
      "chr1\t19159\t24916\t1\n",
      "chr1\t24680\t24904\t1\n",
      "chr1\t29183\t29815\t1\n",
      "chr1\t49736\t63898\t0\n",
      "chr1\t52067\t70851\t1\n"
     ]
    }
   ],
   "source": [
    "./AIList/bin/AIList AIListTestData/chainOrnAna1.bed AIListTestData/exons.bed | head"
   ]
  },
  {
   "cell_type": "code",
   "execution_count": 12,
   "metadata": {
    "collapsed": false,
    "deletable": true,
    "editable": true
   },
   "outputs": [
    {
     "name": "stdout",
     "output_type": "stream",
     "text": [
      "chr1\t11871\t25924\n",
      "\t13\n",
      "chr1\t14786\t15089\n",
      "\t2\n",
      "chr1\t16586\t17305\n",
      "\t3\n",
      "chr1\t17962\t18067\n",
      "\t1\n",
      "chr1\t18118\t18426\n",
      "\t1\n",
      "\n",
      "real\t0m1.314s\n",
      "user\t0m1.292s\n",
      "sys\t0m0.020s\n"
     ]
    }
   ],
   "source": [
    "time ./AIList/src_AITree/AITree AIListTestData/chainOrnAna1.bed AIListTestData/exons.bed | head"
   ]
  },
  {
   "cell_type": "code",
   "execution_count": 9,
   "metadata": {
    "collapsed": false,
    "deletable": true,
    "editable": true
   },
   "outputs": [
    {
     "name": "stdout",
     "output_type": "stream",
     "text": [
      "0:\t43366\t41323\t1005\n",
      "1:\t34022\t32959\t554\n",
      "2:\t25183\t24276\t501\n",
      "3:\t16265\t15757\t269\n",
      "4:\t18229\t17534\t371\n",
      "5:\t21608\t20636\t492\n",
      "6:\t20752\t19925\t447\n",
      "7:\t14516\t14031\t261\n",
      "8:\t17835\t17188\t332\n",
      "9:\t19420\t18656\t363\n",
      "\n",
      "real\t0m1.045s\n",
      "user\t0m1.028s\n",
      "sys\t0m0.016s\n"
     ]
    }
   ],
   "source": [
    "cd \n",
    "time ./AIList/src_NCList/NCList AIListTestData/chainOrnAna1.bed AIListTestData/exons.bed | head"
   ]
  },
  {
   "cell_type": "code",
   "execution_count": 16,
   "metadata": {
    "collapsed": false,
    "deletable": true,
    "editable": true
   },
   "outputs": [
    {
     "name": "stdout",
     "output_type": "stream",
     "text": [
      "chr1\t11871\t25924\t13\n",
      "chr1\t14786\t15089\t2\n",
      "chr1\t16586\t17305\t3\n",
      "chr1\t17962\t18067\t1\n",
      "chr1\t18118\t18426\t1\n",
      "chr1\t19159\t24916\t1\n",
      "chr1\t24680\t24904\t1\n",
      "chr1\t29183\t29815\t1\n",
      "chr1\t49736\t63898\t0\n",
      "chr1\t52067\t70851\t1\n",
      "\n",
      "real\t0m1.920s\n",
      "user\t0m1.848s\n",
      "sys\t0m0.060s\n"
     ]
    }
   ],
   "source": [
    "time bedtools intersect -c -a AIListTestData/chainOrnAna1.bed -b AIListTestData/exons.bed | head"
   ]
  },
  {
   "cell_type": "markdown",
   "metadata": {
    "deletable": true,
    "editable": true
   },
   "source": [
    "Now, here is how to reproduce the benchmark figures from the paper"
   ]
  },
  {
   "cell_type": "markdown",
   "metadata": {
    "deletable": true,
    "editable": true
   },
   "source": [
    "## Benchmark code\n",
    "\n",
    "Now, download some test data for our benchmarks:"
   ]
  },
  {
   "cell_type": "code",
   "execution_count": 7,
   "metadata": {
    "collapsed": false,
    "deletable": true,
    "editable": true,
    "scrolled": true
   },
   "outputs": [
    {
     "name": "stdout",
     "output_type": "stream",
     "text": [
      "--2019-01-08 17:25:00--  http://big.databio.org/example_data/sailer/AIListTestData.tgz\n",
      "Resolving big.databio.org (big.databio.org)... 128.143.8.170\n",
      "Connecting to big.databio.org (big.databio.org)|128.143.8.170|:80... connected.\n",
      "HTTP request sent, awaiting response... 200 OK\n",
      "Length: 413053197 (394M) [application/octet-stream]\n",
      "Saving to: ‘AIListTestData.tgz’\n",
      "\n",
      "AIListTestData.tgz  100%[===================>] 393.92M   104MB/s    in 3.9s    \n",
      "\n",
      "2019-01-08 17:25:04 (102 MB/s) - ‘AIListTestData.tgz’ saved [413053197/413053197]\n",
      "\n"
     ]
    }
   ],
   "source": [
    "cd\n",
    "wget http://big.databio.org/example_data/sailer/AIListTestData.tgz\n",
    "tar -xf AIListTestData.tgz"
   ]
  },
  {
   "cell_type": "markdown",
   "metadata": {
    "deletable": true,
    "editable": true
   },
   "source": [
    "Here is additional code that will run meaningful benchmarks on these larger datasets:"
   ]
  }
 ],
 "metadata": {
  "kernelspec": {
   "display_name": "Bash",
   "language": "bash",
   "name": "bash"
  },
  "language_info": {
   "codemirror_mode": "shell",
   "file_extension": ".sh",
   "mimetype": "text/x-sh",
   "name": "bash"
  }
 },
 "nbformat": 4,
 "nbformat_minor": 2
}
