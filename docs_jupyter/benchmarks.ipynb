{
 "cells": [
  {
   "cell_type": "markdown",
   "metadata": {},
   "source": [
    "# AIList benchmarks\n",
    "\n",
    "Here we will show you how to benchmark the code. We assume you have already finished the introduction and have compiled and put the `ailist` executable in your path.\n",
    "\n",
    "We also included implementations of 2 other data structures, the NCList (obtained from [ncls](https://github.com/hunt-genes/ncls)), and the AITree (obtained from [kerneltree](https://github.com/biocore-ntnu/kerneltree/)). Here is how to compile these tools:"
   ]
  },
  {
   "cell_type": "code",
   "execution_count": 35,
   "metadata": {},
   "outputs": [
    {
     "name": "stdout",
     "output_type": "stream",
     "text": [
      "make: Nothing to be done for 'all'.\n"
     ]
    }
   ],
   "source": [
    "cd\n",
    "cd AIList/src_AITree\n",
    "make"
   ]
  },
  {
   "cell_type": "code",
   "execution_count": 36,
   "metadata": {},
   "outputs": [],
   "source": [
    "cd ../src_NCList\n",
    "gcc -o NCList intervaldb.c"
   ]
  },
  {
   "cell_type": "raw",
   "metadata": {
    "collapsed": true
   },
   "source": [
    "Now that all our tools are compiled, we will make sure we can use them:"
   ]
  },
  {
   "cell_type": "code",
   "execution_count": 41,
   "metadata": {},
   "outputs": [
    {
     "name": "stdout",
     "output_type": "stream",
     "text": [
      "chr1\t11871\t25924\t13\n",
      "chr1\t14786\t15089\t2\n",
      "chr1\t16586\t17305\t3\n",
      "chr1\t17962\t18067\t1\n",
      "chr1\t18118\t18426\t1\n",
      "chr1\t19159\t24916\t1\n",
      "chr1\t24680\t24904\t1\n",
      "chr1\t29183\t29815\t1\n",
      "chr1\t49736\t63898\t0\n",
      "chr1\t52067\t70851\t1\n",
      "\n",
      "real\t0m0.950s\n",
      "user\t0m0.912s\n",
      "sys\t0m0.041s\n"
     ]
    }
   ],
   "source": [
    "cd\n",
    "time ./AIList/bin/ailist AIListTestData/chainOrnAna1.bed AIListTestData/exons.bed | head"
   ]
  },
  {
   "cell_type": "code",
   "execution_count": 42,
   "metadata": {},
   "outputs": [
    {
     "name": "stdout",
     "output_type": "stream",
     "text": [
      "chr1\t11871\t25924\t13\n",
      "chr1\t14786\t15089\t2\n",
      "chr1\t16586\t17305\t3\n",
      "chr1\t17962\t18067\t1\n",
      "chr1\t18118\t18426\t1\n",
      "chr1\t19159\t24916\t1\n",
      "chr1\t24680\t24904\t1\n",
      "chr1\t29183\t29815\t1\n",
      "chr1\t49736\t63898\t0\n",
      "chr1\t52067\t70851\t1\n",
      "\n",
      "real\t0m1.551s\n",
      "user\t0m1.538s\n",
      "sys\t0m0.015s\n"
     ]
    }
   ],
   "source": [
    "cd\n",
    "time ./AIList/src_AITree/AITree AIListTestData/chainOrnAna1.bed AIListTestData/exons.bed | head"
   ]
  },
  {
   "cell_type": "code",
   "execution_count": 43,
   "metadata": {},
   "outputs": [
    {
     "name": "stdout",
     "output_type": "stream",
     "text": [
      "chr1\t11871\t25924\t13\n",
      "chr1\t14786\t15089\t2\n",
      "chr1\t16586\t17305\t3\n",
      "chr1\t17962\t18067\t1\n",
      "chr1\t18118\t18426\t1\n",
      "chr1\t19159\t24916\t1\n",
      "chr1\t24680\t24904\t1\n",
      "chr1\t29183\t29815\t1\n",
      "chr1\t49736\t63898\t0\n",
      "chr1\t52067\t70851\t1\n",
      "\n",
      "real\t0m1.264s\n",
      "user\t0m1.247s\n",
      "sys\t0m0.016s\n"
     ]
    }
   ],
   "source": [
    "cd \n",
    "time ./AIList/src_NCList/NCList AIListTestData/chainOrnAna1.bed AIListTestData/exons.bed | head"
   ]
  },
  {
   "cell_type": "code",
   "execution_count": 44,
   "metadata": {},
   "outputs": [
    {
     "name": "stdout",
     "output_type": "stream",
     "text": [
      "chr1\t11871\t25924\t13\n",
      "chr1\t14786\t15089\t2\n",
      "chr1\t16586\t17305\t3\n",
      "chr1\t17962\t18067\t1\n",
      "chr1\t18118\t18426\t1\n",
      "chr1\t19159\t24916\t1\n",
      "chr1\t24680\t24904\t1\n",
      "chr1\t29183\t29815\t1\n",
      "chr1\t49736\t63898\t0\n",
      "chr1\t52067\t70851\t1\n",
      "\n",
      "real\t0m1.946s\n",
      "user\t0m1.882s\n",
      "sys\t0m0.066s\n"
     ]
    }
   ],
   "source": [
    "time bedtools intersect -c -a AIListTestData/chainOrnAna1.bed -b AIListTestData/exons.bed | head"
   ]
  },
  {
   "cell_type": "markdown",
   "metadata": {},
   "source": [
    "Now, here is how to reproduce the benchmark figures from the paper"
   ]
  },
  {
   "cell_type": "markdown",
   "metadata": {},
   "source": [
    "## Benchmark code\n",
    "\n",
    "Now, download some test data for our benchmarks:"
   ]
  },
  {
   "cell_type": "code",
   "execution_count": 7,
   "metadata": {
    "scrolled": true
   },
   "outputs": [
    {
     "name": "stdout",
     "output_type": "stream",
     "text": [
      "--2019-01-08 17:25:00--  http://big.databio.org/example_data/sailer/AIListTestData.tgz\n",
      "Resolving big.databio.org (big.databio.org)... 128.143.8.170\n",
      "Connecting to big.databio.org (big.databio.org)|128.143.8.170|:80... connected.\n",
      "HTTP request sent, awaiting response... 200 OK\n",
      "Length: 413053197 (394M) [application/octet-stream]\n",
      "Saving to: ‘AIListTestData.tgz’\n",
      "\n",
      "AIListTestData.tgz  100%[===================>] 393.92M   104MB/s    in 3.9s    \n",
      "\n",
      "2019-01-08 17:25:04 (102 MB/s) - ‘AIListTestData.tgz’ saved [413053197/413053197]\n",
      "\n"
     ]
    }
   ],
   "source": [
    "cd\n",
    "wget http://big.databio.org/example_data/sailer/AIListTestData.tgz\n",
    "tar -xf AIListTestData.tgz"
   ]
  },
  {
   "cell_type": "markdown",
   "metadata": {},
   "source": [
    "Here is additional code that will run meaningful benchmarks on these larger datasets:"
   ]
  }
 ],
 "metadata": {
  "kernelspec": {
   "display_name": "Bash",
   "language": "bash",
   "name": "bash"
  },
  "language_info": {
   "codemirror_mode": "shell",
   "file_extension": ".sh",
   "mimetype": "text/x-sh",
   "name": "bash"
  }
 },
 "nbformat": 4,
 "nbformat_minor": 2
}
