{
 "cells": [
  {
   "cell_type": "markdown",
   "metadata": {},
   "source": [
    "# AIList benchmarks\n",
    "\n",
    "Here we will show you how to benchmark the code. We assume you have already finished the introduction and have compiled and put the `ailist` executable in your path.\n",
    "\n",
    "We also included implementations of 2 other data structures, the NCList (obtained from [ncls](https://github.com/hunt-genes/ncls)), and the AITree (obtained from [kerneltree](https://github.com/biocore-ntnu/kerneltree/)). Here is how to compile these tools:"
   ]
  },
  {
   "cell_type": "code",
   "execution_count": 11,
   "metadata": {},
   "outputs": [
    {
     "name": "stdout",
     "output_type": "stream",
     "text": [
      "make: Nothing to be done for 'all'.\n"
     ]
    }
   ],
   "source": [
    "cd\n",
    "cd AIList/src_AITree\n",
    "make\n",
    "#sudo cp AITree /usr/local/bin aitree"
   ]
  },
  {
   "cell_type": "code",
   "execution_count": 12,
   "metadata": {
    "collapsed": true
   },
   "outputs": [],
   "source": [
    "cd ../src_NCList\n",
    "gcc -o NCList intervaldb.c\n",
    "#sudo cp NCList /usr/local/bin nclist"
   ]
  },
  {
   "cell_type": "raw",
   "metadata": {
    "collapsed": true
   },
   "source": [
    "Now that all our tools are compiled, we will make sure we can use them:"
   ]
  },
  {
   "cell_type": "code",
   "execution_count": 13,
   "metadata": {},
   "outputs": [
    {
     "name": "stdout",
     "output_type": "stream",
     "text": [
      "chr1\t11871\t25924\t13\n",
      "chr1\t14786\t15089\t2\n",
      "chr1\t16586\t17305\t3\n",
      "chr1\t17962\t18067\t1\n",
      "chr1\t18118\t18426\t1\n",
      "chr1\t19159\t24916\t1\n",
      "chr1\t24680\t24904\t1\n",
      "chr1\t29183\t29815\t1\n",
      "chr1\t49736\t63898\t0\n",
      "chr1\t52067\t70851\t1\n",
      "\n",
      "real\t0m0.929s\n",
      "user\t0m0.909s\n",
      "sys\t0m0.023s\n"
     ]
    }
   ],
   "source": [
    "cd\n",
    "time ./AIList/bin/ailist AIListTestData/chainOrnAna1.bed AIListTestData/exons.bed | head"
   ]
  },
  {
   "cell_type": "code",
   "execution_count": 14,
   "metadata": {},
   "outputs": [
    {
     "name": "stdout",
     "output_type": "stream",
     "text": [
      "chr1\t11871\t25924\t13\n",
      "chr1\t14786\t15089\t2\n",
      "chr1\t16586\t17305\t3\n",
      "chr1\t17962\t18067\t1\n",
      "chr1\t18118\t18426\t1\n",
      "chr1\t19159\t24916\t1\n",
      "chr1\t24680\t24904\t1\n",
      "chr1\t29183\t29815\t1\n",
      "chr1\t49736\t63898\t0\n",
      "chr1\t52067\t70851\t1\n",
      "\n",
      "real\t0m1.397s\n",
      "user\t0m1.370s\n",
      "sys\t0m0.029s\n"
     ]
    }
   ],
   "source": [
    "cd\n",
    "time ./AIList/src_AITree/AITree AIListTestData/chainOrnAna1.bed AIListTestData/exons.bed | head"
   ]
  },
  {
   "cell_type": "code",
   "execution_count": 15,
   "metadata": {},
   "outputs": [
    {
     "name": "stdout",
     "output_type": "stream",
     "text": [
      "chr1\t11871\t25924\t13\n",
      "chr1\t14786\t15089\t2\n",
      "chr1\t16586\t17305\t3\n",
      "chr1\t17962\t18067\t1\n",
      "chr1\t18118\t18426\t1\n",
      "chr1\t19159\t24916\t1\n",
      "chr1\t24680\t24904\t1\n",
      "chr1\t29183\t29815\t1\n",
      "chr1\t49736\t63898\t0\n",
      "chr1\t52067\t70851\t1\n",
      "\n",
      "real\t0m1.231s\n",
      "user\t0m1.217s\n",
      "sys\t0m0.015s\n"
     ]
    }
   ],
   "source": [
    "cd \n",
    "time ./AIList/src_NCList/NCList AIListTestData/chainOrnAna1.bed AIListTestData/exons.bed | head"
   ]
  },
  {
   "cell_type": "code",
   "execution_count": 16,
   "metadata": {},
   "outputs": [
    {
     "name": "stdout",
     "output_type": "stream",
     "text": [
      "chr1\t11871\t25924\t13\n",
      "chr1\t14786\t15089\t2\n",
      "chr1\t16586\t17305\t3\n",
      "chr1\t17962\t18067\t1\n",
      "chr1\t18118\t18426\t1\n",
      "chr1\t19159\t24916\t1\n",
      "chr1\t24680\t24904\t1\n",
      "chr1\t29183\t29815\t1\n",
      "chr1\t49736\t63898\t0\n",
      "chr1\t52067\t70851\t1\n",
      "\n",
      "real\t0m1.852s\n",
      "user\t0m1.798s\n",
      "sys\t0m0.057s\n"
     ]
    }
   ],
   "source": [
    "time bedtools intersect -c -a AIListTestData/chainOrnAna1.bed -b AIListTestData/exons.bed | head"
   ]
  },
  {
   "cell_type": "markdown",
   "metadata": {},
   "source": [
    "Now, here is how to reproduce the benchmark figures from the paper"
   ]
  },
  {
   "cell_type": "markdown",
   "metadata": {},
   "source": [
    "## Benchmark code\n",
    "\n",
    "Now, download some test data for our benchmarks:"
   ]
  },
  {
   "cell_type": "code",
   "execution_count": 7,
   "metadata": {
    "scrolled": true
   },
   "outputs": [
    {
     "name": "stdout",
     "output_type": "stream",
     "text": [
      "--2019-01-15 15:16:35--  http://big.databio.org/example_data/sailer/AIListTestData.tgz\n",
      "Resolving big.databio.org (big.databio.org)... 128.143.8.170\n",
      "Connecting to big.databio.org (big.databio.org)|128.143.8.170|:80... connected.\n",
      "HTTP request sent, awaiting response... 200 OK\n",
      "Length: 409879540 (391M) [application/octet-stream]\n",
      "Saving to: ‘AIListTestData.tgz’\n",
      "\n",
      "AIListTestData.tgz  100%[===================>] 390.89M  16.2MB/s    in 32s     \n",
      "\n",
      "2019-01-15 15:17:07 (12.0 MB/s) - ‘AIListTestData.tgz’ saved [409879540/409879540]\n",
      "\n"
     ]
    }
   ],
   "source": [
    "cd\n",
    "wget http://big.databio.org/example_data/sailer/AIListTestData.tgz\n",
    "tar -xf AIListTestData.tgz"
   ]
  },
  {
   "cell_type": "code",
   "execution_count": 1,
   "metadata": {},
   "outputs": [
    {
     "name": "stdout",
     "output_type": "stream",
     "text": [
      "/home/john/AIListTestData\n"
     ]
    }
   ],
   "source": [
    "cd\n",
    "cd AIListTestData\n",
    "mkdir data\n",
    "touch data/fig2a\n",
    "touch data/fig2b\n",
    "touch data/fig2c\n",
    "touch data/fig2d\n",
    "pwd"
   ]
  },
  {
   "cell_type": "code",
   "execution_count": 5,
   "metadata": {},
   "outputs": [
    {
     "name": "stdout",
     "output_type": "stream",
     "text": [
      "/home/john\n",
      "/home/john/AIListTestData\n"
     ]
    }
   ],
   "source": [
    "#The bash-kernel (in python) is very slow for benchmarks. Code shown here should be run on command line, \n",
    "# or using magic commands of jupyter notebook. The following code uses magic commands, so be sure to\n",
    "# switch Kernel to Python 3 before execute it!!!\n",
    "import cv2\n",
    "import os\n",
    "import random\n",
    "import numpy as np\n",
    "import pandas as pd\n",
    "import matplotlib.pyplot as plt\n",
    "%cd \n",
    "%cd AIListTestData"
   ]
  },
  {
   "cell_type": "code",
   "execution_count": 7,
   "metadata": {},
   "outputs": [
    {
     "name": "stdout",
     "output_type": "stream",
     "text": [
      "Process is terminated.\n"
     ]
    }
   ],
   "source": [
    "%%bash\n",
    "#code here runs ~2hrs\n",
    "echo -e \"real\\tuser\\tsys\" > data/fig2a\n",
    "echo -e \"real\\tuser\\tsys\" > data/fig2b\n",
    "echo -e \"real\\tuser\\tsys\" > data/fig2c\n",
    "echo -e \"real\\tuser\\tsys\" > data/fig2d\n",
    "for i in {5..150..5}\n",
    "do\n",
    "/usr/bin/time -a -o data/fig2a -f \"%e\\t%U\\t%S\" ailist chainRn4.bed chainOrnAna1.bed -L $i > /dev/null\n",
    "/usr/bin/time -a -o data/fig2b -f \"%e\\t%U\\t%S\" ailist chainRn4.bed chainVicPac2.bed -L $i > /dev/null\n",
    "/usr/bin/time -a -o data/fig2c -f \"%e\\t%U\\t%S\" ailist chainRn4.bed chainXenTro3Link.bed -L $i > /dev/null\n",
    "/usr/bin/time -a -o data/fig2d -f \"%e\\t%U\\t%S\" ailist chainRn4.bed chainMonDom5Link.bed -L $i > /dev/null\n",
    "done"
   ]
  },
  {
   "cell_type": "code",
   "execution_count": 8,
   "metadata": {
    "collapsed": true
   },
   "outputs": [],
   "source": [
    "def clenCurve():\n",
    "    d_a = pd.read_csv(\"data/fig2a\", sep='\\t')    \n",
    "    d_b = pd.read_csv(\"data/fig2b\", sep='\\t')  \n",
    "    d_c = pd.read_csv(\"data/fig2c\", sep='\\t')    \n",
    "    d_d = pd.read_csv(\"data/fig2d\", sep='\\t')      \n",
    "    #--------------------------------------------------\n",
    "    tx1 = np.arange(5, 255, 5)\n",
    "    \n",
    "    t1 = d_a['real']\n",
    "    t2 = d_b['real'] \n",
    "    t3 = d_c['real']\n",
    "    t4 = d_d['real']    \n",
    "    r1 = t1[3]\n",
    "    r2 = t2[3]\n",
    "    r3 = t3[3]\n",
    "    r4 = t4[3]\n",
    "    \n",
    "    #--------------------------------------------------\n",
    "    f = plt.figure(1, figsize=(6,4))\n",
    "    ax1 = plt.subplot(111)  \n",
    "    plt.xlabel('Minimum length of coverage')\n",
    "    plt.ylabel('Runtime ratio')    \n",
    "    ax1.set_ylim(0.8, 2.0)\n",
    "    ax1.set_xlim(0, 150)\n",
    "    \n",
    "    plt.plot(tx1, t1/r1, ':', label='Dataset 3', color='k')    \n",
    "    plt.plot(tx1, t2/r2, '-.', label='Dataset 4', color='0.5')\n",
    "    plt.plot(tx1, t3/r3, '-', label='Dataset 5', color='0.3')    \n",
    "    plt.plot(tx1, t4/r4, '--', label='Dataset 6', color='k')  \n",
    "    ax1.legend(loc='upper right')\n",
    "    \n",
    "    plt.show()\n",
    "    f.savefig('data/ailist_fig2.svg')"
   ]
  },
  {
   "cell_type": "code",
   "execution_count": 9,
   "metadata": {},
   "outputs": [
    {
     "data": {
      "image/png": "[encoded data removed]",
      "text/plain": [
       "<matplotlib.figure.Figure at 0x7f8dee30d048>"
      ]
     },
     "metadata": {},
     "output_type": "display_data"
    }
   ],
   "source": [
    "clenCurve()"
   ]
  },
  {
   "cell_type": "code",
   "execution_count": null,
   "metadata": {
    "collapsed": true
   },
   "outputs": [],
   "source": []
  },
  {
   "cell_type": "markdown",
   "metadata": {},
   "source": [
    "Here is additional code that will run meaningful benchmarks on these larger datasets:"
   ]
  }
 ],
 "metadata": {
  "kernelspec": {
   "display_name": "Python 3",
   "language": "python",
   "name": "python3"
  },
  "language_info": {
   "codemirror_mode": {
    "name": "ipython",
    "version": 3
   },
   "file_extension": ".py",
   "mimetype": "text/x-python",
   "name": "python",
   "nbconvert_exporter": "python",
   "pygments_lexer": "ipython3",
   "version": "3.6.3"
  }
 },
 "nbformat": 4,
 "nbformat_minor": 2
}
